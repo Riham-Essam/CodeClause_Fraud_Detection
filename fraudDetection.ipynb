{
 "cells": [
  {
   "cell_type": "markdown",
   "id": "449c9fde",
   "metadata": {},
   "source": [
    "CodeClause : Data Science Intern\n",
    "Batch-September 2022\n",
    "Name : Riham Essam\n",
    "Project Name : Fraud Detection"
   ]
  },
  {
   "cell_type": "code",
   "execution_count": null,
   "id": "f8fa4c3c",
   "metadata": {},
   "outputs": [],
   "source": [
    "#importing libraries\n",
    "import pandas as pd\n",
    "import seaborn as sns\n",
    "import numpy as np\n",
    "import matplotlib.pyplot as plt\n",
    "import warnings\n",
    "import sklearn\n",
    "from sklearn.utils import shuffle\n",
    "from sklearn.preprocessing import MinMaxScaler\n",
    "from sklearn.model_selection import train_test_split\n",
    "from sklearn.linear_model import LogisticRegression\n",
    "from sklearn import svm\n",
    "from sklearn.metrics import make_scorer, accuracy_score\n",
    "from sklearn import metrics\n",
    "from sklearn.ensemble import  RandomForestClassifier\n",
    "from sklearn.tree import DecisionTreeClassifier\n",
    "from sklearn.svm import SVC\n",
    "from sklearn.model_selection import GridSearchCV\n",
    "from sklearn.metrics import classification_report\n",
    "from sklearn.naive_bayes import GaussianNB\n",
    "\n",
    "warnings.filterwarnings('ignore')"
   ]
  },
  {
   "cell_type": "code",
   "execution_count": null,
   "id": "ae9ee781",
   "metadata": {},
   "outputs": [],
   "source": [
    "df = pd.read_csv(\"fraud-detection.csv\")"
   ]
  },
  {
   "cell_type": "code",
   "execution_count": null,
   "id": "407151c7",
   "metadata": {
    "scrolled": false
   },
   "outputs": [],
   "source": [
    "df.head()"
   ]
  },
  {
   "cell_type": "code",
   "execution_count": null,
   "id": "1b562a18",
   "metadata": {
    "scrolled": true
   },
   "outputs": [],
   "source": [
    "df.info()"
   ]
  },
  {
   "cell_type": "code",
   "execution_count": null,
   "id": "92900b71",
   "metadata": {},
   "outputs": [],
   "source": [
    "df.columns"
   ]
  },
  {
   "cell_type": "code",
   "execution_count": null,
   "id": "ca7ea40c",
   "metadata": {},
   "outputs": [],
   "source": [
    "df['Class'].value_counts() #0 is not frauded and 1 is frauded"
   ]
  },
  {
   "cell_type": "code",
   "execution_count": null,
   "id": "4acb4bff",
   "metadata": {
    "scrolled": true
   },
   "outputs": [],
   "source": [
    "df.duplicated().sum()"
   ]
  },
  {
   "cell_type": "code",
   "execution_count": null,
   "id": "7674dc8e",
   "metadata": {},
   "outputs": [],
   "source": [
    "df.drop_duplicates(inplace = True)"
   ]
  },
  {
   "cell_type": "code",
   "execution_count": null,
   "id": "1b97bbb6",
   "metadata": {},
   "outputs": [],
   "source": [
    "df.duplicated().sum()"
   ]
  },
  {
   "cell_type": "code",
   "execution_count": null,
   "id": "c114748b",
   "metadata": {},
   "outputs": [],
   "source": [
    "df.shape"
   ]
  },
  {
   "cell_type": "code",
   "execution_count": null,
   "id": "ab15002c",
   "metadata": {
    "scrolled": true
   },
   "outputs": [],
   "source": [
    "df.describe().T"
   ]
  },
  {
   "cell_type": "code",
   "execution_count": null,
   "id": "222fe324",
   "metadata": {},
   "outputs": [],
   "source": [
    "sns.countplot(df['Class'])"
   ]
  },
  {
   "cell_type": "code",
   "execution_count": null,
   "id": "ef005d25",
   "metadata": {},
   "outputs": [],
   "source": [
    "df.isnull().sum()"
   ]
  },
  {
   "cell_type": "code",
   "execution_count": null,
   "id": "6a1b928d",
   "metadata": {},
   "outputs": [],
   "source": [
    "sns.countplot(df['Class'],color=\"salmon\",saturation = 0.5)"
   ]
  },
  {
   "cell_type": "code",
   "execution_count": null,
   "id": "b7b7458c",
   "metadata": {},
   "outputs": [],
   "source": [
    "df['Class'].value_counts() "
   ]
  },
  {
   "cell_type": "code",
   "execution_count": null,
   "id": "30fc435e",
   "metadata": {},
   "outputs": [],
   "source": [
    "df.corr()"
   ]
  },
  {
   "cell_type": "code",
   "execution_count": null,
   "id": "27ec296a",
   "metadata": {},
   "outputs": [],
   "source": [
    "#feature scalling to normalize data in range 0:1\n",
    "stand=MinMaxScaler()\n",
    "df[['Amount']] = stand.fit_transform(df[['Amount']])\n",
    "\n",
    "df.head()"
   ]
  },
  {
   "cell_type": "code",
   "execution_count": null,
   "id": "ba4572e7",
   "metadata": {},
   "outputs": [],
   "source": [
    "#representing correlation between features\n",
    "plt.figure(figsize=(12,12))\n",
    "hm = sns.heatmap(df.corr(), square = True,cmap=\"Greens\")\n",
    "hm.set(title = \"Correlation matrix of fraud detection data\\n\")\n",
    "\n",
    "plt.show()"
   ]
  },
  {
   "cell_type": "code",
   "execution_count": null,
   "id": "1dc6a096",
   "metadata": {},
   "outputs": [],
   "source": [
    "#As we count of unfrauded is much more than the frauded class so we'll take a sample from the unfrauded class\n",
    "frauded = df[df.Class == 1]\n",
    "unfrauded = df[df.Class == 0]\n",
    "\n",
    "sampleOfUnfrauded = unfrauded.sample(n = 2000)\n",
    "newdf = pd.concat([sampleOfUnfrauded,frauded],axis = 0)\n",
    "newdf"
   ]
  },
  {
   "cell_type": "code",
   "execution_count": null,
   "id": "0f0ad5be",
   "metadata": {},
   "outputs": [],
   "source": [
    "newdf['Class'].value_counts() #It seems good we'll use this new dataframe to apply models on it"
   ]
  },
  {
   "cell_type": "code",
   "execution_count": null,
   "id": "f5989076",
   "metadata": {
    "scrolled": true
   },
   "outputs": [],
   "source": [
    "newdf.plot.scatter(x = \"Amount\", y = \"Class\", alpha = 0.5)"
   ]
  },
  {
   "cell_type": "code",
   "execution_count": null,
   "id": "1160705e",
   "metadata": {},
   "outputs": [],
   "source": [
    "newdf.plot.box(figsize=(18,6))"
   ]
  },
  {
   "cell_type": "code",
   "execution_count": null,
   "id": "c8487b58",
   "metadata": {
    "scrolled": true
   },
   "outputs": [],
   "source": [
    "#Andrews curves are used to visualize high_dimensional data by mapping each observation to a function\n",
    "pd.plotting.andrews_curves(newdf, 'Class', color = [\"purple\", \"salmon\"])"
   ]
  },
  {
   "cell_type": "code",
   "execution_count": null,
   "id": "77dc96f6",
   "metadata": {},
   "outputs": [],
   "source": [
    "shuffled = shuffle(newdf)\n",
    "print(shuffled.head())"
   ]
  },
  {
   "cell_type": "code",
   "execution_count": null,
   "id": "38007cc0",
   "metadata": {},
   "outputs": [],
   "source": [
    "pd.plotting.andrews_curves(newdf.sample(n = 1000), 'Class', colormap = \"Accent\")"
   ]
  },
  {
   "cell_type": "markdown",
   "id": "85b8fd43",
   "metadata": {},
   "source": [
    "Models"
   ]
  },
  {
   "cell_type": "code",
   "execution_count": null,
   "id": "a31603be",
   "metadata": {},
   "outputs": [],
   "source": [
    "X = newdf.iloc[:,:-1]\n",
    "Y = newdf.iloc[:,-1]"
   ]
  },
  {
   "cell_type": "code",
   "execution_count": null,
   "id": "9de37d9c",
   "metadata": {},
   "outputs": [],
   "source": [
    "print(X.shape)\n",
    "print(Y.shape)"
   ]
  },
  {
   "cell_type": "code",
   "execution_count": null,
   "id": "d4d3e69f",
   "metadata": {},
   "outputs": [],
   "source": [
    "#splliting data to train and test with 75% train and 25% test\n",
    "X_train, X_test, y_train, y_test = train_test_split(X, Y, test_size = 0.25, shuffle=True, random_state=10)"
   ]
  },
  {
   "cell_type": "code",
   "execution_count": null,
   "id": "cd5e625c",
   "metadata": {},
   "outputs": [],
   "source": [
    "#A list to save accuracy score for each model\n",
    "scores=[]"
   ]
  },
  {
   "cell_type": "code",
   "execution_count": null,
   "id": "1c677633",
   "metadata": {},
   "outputs": [],
   "source": [
    "#random forest\n",
    "classifier = RandomForestClassifier(n_estimators = 100)\n",
    "#train the model\n",
    "classifier.fit(X_train, y_train)\n",
    "#predict with the test data\n",
    "y_pred = classifier.predict(X_test)\n",
    "\n",
    "print(\"random forest accuracy:\",accuracy_score(y_test,y_pred))\n",
    "print(\"random forest precision \",metrics.precision_score(y_test,y_pred))\n",
    "print(\"random forest recall \",metrics.recall_score(y_test,y_pred))\n",
    "\n",
    "#adding accuracy for the model in scores list\n",
    "scores.append({\n",
    "        'model': 'Random forest',\n",
    "        'accuracy':accuracy_score(y_test,y_pred)})\n",
    "\n",
    "#confusion matrix \n",
    "cm = metrics.confusion_matrix(y_test, y_pred)\n",
    "fig, ax = plt.subplots(figsize=(4, 4))\n",
    "ax.imshow(cm)\n",
    "ax.grid(False)\n",
    "ax.xaxis.set(ticks=(0, 1), ticklabels=('Predicted 0s', 'Predicted 1s'))\n",
    "ax.yaxis.set(ticks=(0, 1), ticklabels=('Actual 0s', 'Actual 1s'))\n",
    "ax.set_ylim(1.5, -0.5)\n",
    "\n",
    "for i in range(2):\n",
    "    for j in range(2):\n",
    "        ax.text(j, i, cm[i, j], ha='center', va='center', color='red')\n",
    "        \n",
    "plt.show()"
   ]
  },
  {
   "cell_type": "code",
   "execution_count": null,
   "id": "1232c809",
   "metadata": {},
   "outputs": [],
   "source": [
    "#desicion tree \n",
    "model = DecisionTreeClassifier()\n",
    "model.fit(X_train, y_train)\n",
    "predictions = model.predict(X_test)\n",
    "\n",
    "print(\"desicion tree accuracy:\",accuracy_score(y_test,predictions))\n",
    "print(\"desicion tree precision: \",metrics.precision_score(y_test,predictions))\n",
    "print(\"desicion tree recall: \",metrics.recall_score(y_test,predictions))\n",
    "\n",
    "scores.append({\n",
    "        'model': 'Decision tree',\n",
    "        'accuracy':accuracy_score(y_test,predictions) })\n",
    "\n",
    "confusionMatrix = metrics.confusion_matrix(y_test, predictions)\n",
    "cm = metrics.ConfusionMatrixDisplay(confusion_matrix = confusionMatrix, display_labels = [False, True])\n",
    "cm.plot()\n",
    "\n",
    "plt.show()"
   ]
  },
  {
   "cell_type": "code",
   "execution_count": null,
   "id": "98fdeee0",
   "metadata": {},
   "outputs": [],
   "source": [
    "#logistic regression\n",
    "log = LogisticRegression()\n",
    "pred = log.fit(X_train,y_train).predict(X_test)\n",
    "\n",
    "print(\"logistic regression accuracy: \",accuracy_score(y_test,pred))\n",
    "print(\"logistic regression precision \",metrics.precision_score(y_test,pred))\n",
    "print(\"logistic regression recall \",metrics.recall_score(y_test,pred))\n",
    "\n",
    "scores.append({\n",
    "        'model': 'logistic regression',\n",
    "        'accuracy':accuracy_score(y_test,pred) })\n",
    "\n",
    "confusionMatrix = metrics.confusion_matrix(y_test, pred)\n",
    "cm = metrics.ConfusionMatrixDisplay(confusion_matrix = confusionMatrix, display_labels = [False, True])\n",
    "cm.plot()\n",
    "\n",
    "plt.show()"
   ]
  },
  {
   "cell_type": "code",
   "execution_count": null,
   "id": "aff80246",
   "metadata": {},
   "outputs": [],
   "source": [
    "#SVM\n",
    "#we use grid search to choose the best parameters \n",
    "param_grid = {'C': [0.1, 1, 10, 100, 1000],\n",
    "                  'gamma': [1, 0.1, 0.01, 0.001, 0.0001],\n",
    "                  'kernel': ['rbf']}\n",
    "\n",
    "grid_SVM = GridSearchCV(SVC(), param_grid)\n",
    "grid_SVM.fit(X_train, y_train)\n",
    "pred=grid_SVM.predict(X_test)\n",
    "\n",
    "print(\"SVM accuracy: \", accuracy_score(y_test, pred))\n",
    "print(\"SVM precision \",metrics.precision_score(y_test,pred))\n",
    "print(\"SVM recall \",metrics.recall_score(y_test,pred))\n",
    "print(\"best parameters: \",grid_SVM.best_params_)\n",
    "\n",
    "scores.append({\n",
    "        'model': 'SVM',\n",
    "        'accuracy':accuracy_score(y_test,pred) })\n",
    "\n",
    "confusionMatrix = metrics.confusion_matrix(y_test, pred)\n",
    "cm = metrics.ConfusionMatrixDisplay(confusion_matrix = confusionMatrix, display_labels = [False, True])\n",
    "cm.plot()\n",
    "\n",
    "plt.show()"
   ]
  },
  {
   "cell_type": "code",
   "execution_count": null,
   "id": "8caf5362",
   "metadata": {},
   "outputs": [],
   "source": [
    "GNB = GaussianNB()\n",
    "pred = GNB.fit(X_train,y_train).predict(X_test)\n",
    "\n",
    "print(\"GaussianNB accuracy: \",accuracy_score(y_test,pred))\n",
    "print(\"GaussianNB precision \",metrics.precision_score(y_test,pred))\n",
    "print(\"GaussianNB recall \",metrics.recall_score(y_test,pred))\n",
    "scores.append({\n",
    "        'model': 'GaussianNB',\n",
    "        'accuracy':accuracy_score(y_test,pred) })\n",
    "\n",
    "confusionMatrix = metrics.confusion_matrix(y_test, pred)\n",
    "cm = metrics.ConfusionMatrixDisplay(confusion_matrix = confusionMatrix, display_labels = [False, True])\n",
    "cm.plot()\n",
    "\n",
    "plt.show()"
   ]
  },
  {
   "cell_type": "code",
   "execution_count": null,
   "id": "edd05252",
   "metadata": {},
   "outputs": [],
   "source": [
    "#printing accuracy for each model \n",
    "df_score = pd.DataFrame(scores,columns=['model','accuracy'])\n",
    "df_score"
   ]
  },
  {
   "cell_type": "code",
   "execution_count": null,
   "id": "1178bcac",
   "metadata": {},
   "outputs": [],
   "source": [
    "#visualization for each model's accuracy\n",
    "plt.figure(figsize=(8,4))\n",
    "sns.barplot(x=\"model\", y=\"accuracy\", data=df_score)\n",
    "plt.ylim(0, 1)\n",
    "\n",
    "#conclusion: Random forest is the highest accuracy and SVM is the lowest"
   ]
  },
  {
   "cell_type": "code",
   "execution_count": null,
   "id": "516e762d",
   "metadata": {},
   "outputs": [],
   "source": [
    "#classification report \n",
    "print(classification_report(y_test,y_pred))"
   ]
  }
 ],
 "metadata": {
  "kernelspec": {
   "display_name": "Python 3 (ipykernel)",
   "language": "python",
   "name": "python3"
  },
  "language_info": {
   "codemirror_mode": {
    "name": "ipython",
    "version": 3
   },
   "file_extension": ".py",
   "mimetype": "text/x-python",
   "name": "python",
   "nbconvert_exporter": "python",
   "pygments_lexer": "ipython3",
   "version": "3.9.12"
  }
 },
 "nbformat": 4,
 "nbformat_minor": 5
}
